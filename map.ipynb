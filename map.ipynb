{
  "nbformat": 4,
  "nbformat_minor": 0,
  "metadata": {
    "colab": {
      "name": "Untitled23.ipynb",
      "provenance": [],
      "authorship_tag": "ABX9TyMzsUL5C105i3jFHuLeckM1",
      "include_colab_link": true
    },
    "kernelspec": {
      "name": "python3",
      "display_name": "Python 3"
    },
    "language_info": {
      "name": "python"
    }
  },
  "cells": [
    {
      "cell_type": "markdown",
      "metadata": {
        "id": "view-in-github",
        "colab_type": "text"
      },
      "source": [
        "<a href=\"https://colab.research.google.com/github/NISHANT8800/ASSIGMENT/blob/master/map.ipynb\" target=\"_parent\"><img src=\"https://colab.research.google.com/assets/colab-badge.svg\" alt=\"Open In Colab\"/></a>"
      ]
    },
    {
      "cell_type": "code",
      "execution_count": 3,
      "metadata": {
        "colab": {
          "base_uri": "https://localhost:8080/"
        },
        "id": "j8vy7r0JqR1p",
        "outputId": "717b5aff-53de-4265-a940-659d1298ecec"
      },
      "outputs": [
        {
          "output_type": "stream",
          "name": "stdout",
          "text": [
            "Original list:\n",
            " (1, 2, 3, 4, 5, 6, 7)\n",
            "\n",
            "Triple of  list numbers:\n",
            "[3, 6, 9, 12, 15, 18, 21]\n"
          ]
        }
      ],
      "source": [
        "nums = (1, 2, 3, 4, 5, 6, 7) \n",
        "print(\"Original list:\\n\", nums)\n",
        "result = map(lambda x: x + x + x, nums) \n",
        "print(\"\\nTriple of  list numbers:\")\n",
        "print(list(result))"
      ]
    },
    {
      "cell_type": "code",
      "source": [
        ""
      ],
      "metadata": {
        "id": "rdv407-1rV3O"
      },
      "execution_count": null,
      "outputs": []
    }
  ]
}