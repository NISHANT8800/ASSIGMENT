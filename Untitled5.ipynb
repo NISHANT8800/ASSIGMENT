{
  "nbformat": 4,
  "nbformat_minor": 0,
  "metadata": {
    "colab": {
      "name": "Untitled5.ipynb",
      "provenance": [],
      "authorship_tag": "ABX9TyON4QzXQVqkUwEWJdtq5F6a",
      "include_colab_link": true
    },
    "kernelspec": {
      "name": "python3",
      "display_name": "Python 3"
    },
    "language_info": {
      "name": "python"
    }
  },
  "cells": [
    {
      "cell_type": "markdown",
      "metadata": {
        "id": "view-in-github",
        "colab_type": "text"
      },
      "source": [
        "<a href=\"https://colab.research.google.com/github/NISHANT8800/ASSIGMENT/blob/master/Untitled5.ipynb\" target=\"_parent\"><img src=\"https://colab.research.google.com/assets/colab-badge.svg\" alt=\"Open In Colab\"/></a>"
      ]
    },
    {
      "cell_type": "code",
      "metadata": {
        "colab": {
          "base_uri": "https://localhost:8080/"
        },
        "id": "y1wvwolvEuRF",
        "outputId": "6b4d6d90-7d70-44fc-ee19-77fd71c43892"
      },
      "source": [
        "print(\"hello\")\n",
        "int(10/2)"
      ],
      "execution_count": null,
      "outputs": [
        {
          "output_type": "stream",
          "name": "stdout",
          "text": [
            "hello\n"
          ]
        },
        {
          "output_type": "execute_result",
          "data": {
            "text/plain": [
              "5"
            ]
          },
          "metadata": {},
          "execution_count": 1
        }
      ]
    },
    {
      "cell_type": "code",
      "metadata": {
        "colab": {
          "base_uri": "https://localhost:8080/"
        },
        "id": "a6ugq6xjFGjE",
        "outputId": "6f7576bc-0ec2-4242-a1f7-3a7194aff3fa"
      },
      "source": [
        "inp1 = input(\" first\")\n",
        "inp2 = input(\" second\")\n",
        "\n",
        "Add = int(inp1) +int(inp2)\n",
        "\n",
        "print(\"ANS = \", Add)"
      ],
      "execution_count": null,
      "outputs": [
        {
          "output_type": "stream",
          "name": "stdout",
          "text": [
            " first5\n",
            " second88\n",
            "ANS =  93\n"
          ]
        }
      ]
    },
    {
      "cell_type": "code",
      "metadata": {
        "colab": {
          "base_uri": "https://localhost:8080/"
        },
        "id": "-uYcfC6zLpBp",
        "outputId": "e8add79c-e857-4d28-fbb1-154d5c40a50e"
      },
      "source": [
        "print(\"Perfect Plan B\" + \"123\")\n"
      ],
      "execution_count": null,
      "outputs": [
        {
          "output_type": "stream",
          "name": "stdout",
          "text": [
            "Perfect Plan B123\n"
          ]
        }
      ]
    },
    {
      "cell_type": "code",
      "metadata": {
        "colab": {
          "base_uri": "https://localhost:8080/"
        },
        "id": "mI4_3VFDMoj5",
        "outputId": "270b380a-de81-4a55-fa9f-6bf03a96e0a8"
      },
      "source": [
        "j=4\n",
        "j = j + 4\n",
        "print(j)\n",
        "x = int(89.7)\n",
        "x"
      ],
      "execution_count": null,
      "outputs": [
        {
          "output_type": "stream",
          "name": "stdout",
          "text": [
            "8\n"
          ]
        },
        {
          "output_type": "execute_result",
          "data": {
            "text/plain": [
              "89"
            ]
          },
          "metadata": {},
          "execution_count": 5
        }
      ]
    },
    {
      "cell_type": "code",
      "metadata": {
        "colab": {
          "base_uri": "https://localhost:8080/"
        },
        "id": "8XD2LEmbNGfP",
        "outputId": "3da45e2a-3c44-43bf-999f-1d6f1949f609"
      },
      "source": [
        "32%10"
      ],
      "execution_count": null,
      "outputs": [
        {
          "output_type": "execute_result",
          "data": {
            "text/plain": [
              "2"
            ]
          },
          "metadata": {},
          "execution_count": 6
        }
      ]
    },
    {
      "cell_type": "code",
      "metadata": {
        "colab": {
          "base_uri": "https://localhost:8080/"
        },
        "id": "sCOiMOfONoYE",
        "outputId": "25b3b0b0-e12b-4567-c25e-7ee234ff335d"
      },
      "source": [
        "      z = 1 + 3 * 2 - 8 / 4\n",
        "      z"
      ],
      "execution_count": null,
      "outputs": [
        {
          "output_type": "execute_result",
          "data": {
            "text/plain": [
              "5.0"
            ]
          },
          "metadata": {},
          "execution_count": 7
        }
      ]
    },
    {
      "cell_type": "code",
      "metadata": {
        "colab": {
          "base_uri": "https://localhost:8080/"
        },
        "id": "O10q8I2bNtFR",
        "outputId": "38b63b4e-70f4-4e64-e464-9fe6cf18b2ce"
      },
      "source": [
        " d = input(\" days : \")\n",
        "\n",
        " r = input(\"  Rate per day : \")\n",
        "\n",
        "Total_pay =float(d)*float(r)\n",
        "\n",
        "print(\"Total_pay \", Total_pay)"
      ],
      "execution_count": null,
      "outputs": [
        {
          "output_type": "stream",
          "name": "stdout",
          "text": [
            " days : 50\n",
            "  Rate per day : 3.5\n",
            "Total_pay  175.0\n"
          ]
        }
      ]
    },
    {
      "cell_type": "code",
      "metadata": {
        "id": "h6slp1f3QU5h",
        "colab": {
          "base_uri": "https://localhost:8080/"
        },
        "outputId": "31743757-671f-468a-9fed-58b253f13029"
      },
      "source": [
        "x = 2\n",
        "y = 3\n",
        "if x==2:\n",
        "  print(\"x = 2\")\n",
        "x=y\n",
        "if x==3:\n",
        "  print(\"x = 3\")\n"
      ],
      "execution_count": null,
      "outputs": [
        {
          "output_type": "stream",
          "name": "stdout",
          "text": [
            "x = 2\n",
            "x = 3\n"
          ]
        }
      ]
    },
    {
      "cell_type": "code",
      "metadata": {
        "colab": {
          "base_uri": "https://localhost:8080/"
        },
        "id": "jBm_irandKlb",
        "outputId": "91370418-a5a6-4e97-e0c0-2f5c5f6b4153"
      },
      "source": [
        "# number = input(\"Enter A No. :  \")\n",
        "# try:\n",
        "#   N = float(number)\n",
        "#   print(\" \", N)\n",
        "# except:\n",
        "#   print(\" It's String \", N)  \n",
        "\n",
        "\n",
        "\n",
        "# if N>0:\n",
        "#     print(\"No. is Positive\")\n",
        "# elif N==0:\n",
        "#       print(\"No is : 0\")\n",
        "# else:\n",
        "#       print(\" No. is Negative \")\n",
        "\n"
      ],
      "execution_count": null,
      "outputs": [
        {
          "output_type": "stream",
          "name": "stdout",
          "text": [
            "Enter A No. :  kl\n",
            " It's String  65.0\n",
            "No. is Positive\n"
          ]
        }
      ]
    },
    {
      "cell_type": "code",
      "metadata": {
        "id": "z6quQ-uP2G2M"
      },
      "source": [
        "    x = 3\n",
        "y = 6\n",
        "def divide(x, y):\n",
        "  try:\n",
        "    result = x/y\n",
        "    print(\">> \", result)\n",
        "  except:\n",
        "     print(\" Not Posible\") "
      ],
      "execution_count": null,
      "outputs": []
    },
    {
      "cell_type": "code",
      "metadata": {
        "id": "0BHGyVlG2SkL",
        "colab": {
          "base_uri": "https://localhost:8080/"
        },
        "outputId": "58806494-9f67-4f0c-ef89-0503d4b9e916"
      },
      "source": [
        "D = input(\"Days= \")\n",
        "R = input(\"Rate = \")\n",
        "\n",
        "try:             \n",
        "  float(D)\n",
        "  int(input())\n",
        "  float (R)\n",
        "except:    \n",
        "    print(\" It's String \", D, R)\n",
        "    "
      ],
      "execution_count": null,
      "outputs": [
        {
          "output_type": "stream",
          "name": "stdout",
          "text": [
            "Days= kj\n",
            "Rate = lk\n",
            " It's String  kj lk\n"
          ]
        }
      ]
    },
    {
      "cell_type": "code",
      "metadata": {
        "id": "4ZfVg-u5gIoe",
        "colab": {
          "base_uri": "https://localhost:8080/"
        },
        "outputId": "4adbe8bc-28eb-43a3-e6a6-bad3788a220b"
      },
      "source": [
        "D = input(\" d =\")\n",
        "try:\n",
        "  float(D)\n",
        "except:\n",
        "  print(\"  \", D)\n"
      ],
      "execution_count": null,
      "outputs": [
        {
          "name": "stdout",
          "output_type": "stream",
          "text": [
            "4\n"
          ]
        }
      ]
    },
    {
      "cell_type": "code",
      "metadata": {
        "id": "oXwPZe7Arzuk",
        "colab": {
          "base_uri": "https://localhost:8080/"
        },
        "outputId": "28cec93f-a89a-4626-e7f5-4fd1a0d3bb15"
      },
      "source": [
        "N = input(\"Name =  \")\n",
        "G =str(input(\" Gender(M/F) =  \"))\n",
        "def greet(G):\n",
        "  if G == 'M':\n",
        "     print(\"Hello Welcome Mr.\"+N.upper())\n",
        "  else: \n",
        "     print(\"Hello Welcome Ms.\"+N.upper())\n",
        "\n",
        " greet(G)\n",
        "print(\"How can i help you?\")\n"
      ],
      "execution_count": null,
      "outputs": [
        {
          "output_type": "stream",
          "name": "stdout",
          "text": [
            "Name =  Nisha\n",
            " Gender(M/F) =  F\n",
            "Hello Welcome Ms.NISHA\n",
            "How can i help you?\n"
          ]
        }
      ]
    },
    {
      "cell_type": "code",
      "metadata": {
        "colab": {
          "base_uri": "https://localhost:8080/",
          "height": 222
        },
        "id": "1mJSiK3TJMIv",
        "outputId": "640cf71c-e0bd-42a8-a39b-7d466e7c3824"
      },
      "source": [
        "N =float(input(\"number =  \"))\n",
        "def check(N):\n",
        "  if N > 0 and N % 2 == 0:\n",
        "    print(\"No. is EVEN \")\n",
        "    print(\"No. is Positive\")\n",
        "  elif N < 0 and N % 2 == 0:\n",
        "    print(\"No. is EVEN \")\n",
        "    print(\" No. is Negative \")\n",
        "  elif N == 0:\n",
        "     print(\"No is : 0\")\n",
        "  else:\n",
        "    if N>0:\n",
        "      print(\"No. is ODD \")\n",
        "      print(\"No. is Positive\")\n",
        "    elif N==0:\n",
        "      print(\"No. is ODD \")\n",
        "      print(\"No is : 0\")\n",
        "    else:\n",
        "      print(\"No. is ODD \")\n",
        "      print(\" No. is Negative \")\n",
        "    return \"Done\"\n",
        "check(-7)\n",
        "\n",
        "check(-8)\n",
        "\n",
        "check(7)\n",
        "\n",
        "check(2)\n",
        "\n",
        "check(N)\n",
        "\n",
        "\n",
        "\n",
        "\n",
        " jac(int )\n",
        "\n",
        "\n",
        "\n",
        "\n",
        "\n",
        "\n",
        "\n",
        "\n",
        "\n",
        "\n",
        "\n",
        "\n"
      ],
      "execution_count": null,
      "outputs": [
        {
          "output_type": "stream",
          "name": "stdout",
          "text": [
            "number =  7\n",
            "No. is ODD \n",
            " No. is Negative \n",
            "No. is EVEN \n",
            " No. is Negative \n",
            "No. is ODD \n",
            "No. is Positive\n",
            "No. is EVEN \n",
            "No. is Positive\n",
            "No. is ODD \n",
            "No. is Positive\n"
          ]
        },
        {
          "output_type": "execute_result",
          "data": {
            "application/vnd.google.colaboratory.intrinsic+json": {
              "type": "string"
            },
            "text/plain": [
              "'Done'"
            ]
          },
          "metadata": {},
          "execution_count": 31
        }
      ]
    },
    {
      "cell_type": "code",
      "metadata": {
        "colab": {
          "base_uri": "https://localhost:8080/"
        },
        "id": "59Eyu8hXOvV9",
        "outputId": "89fcfb13-0716-4a37-a482-cbe9bb527331"
      },
      "source": [
        "def add(a, b):\n",
        "  added = a+b\n",
        "  return added\n",
        "  \n",
        "  print(\"XY\")\n",
        "x = add(3, 4)\n",
        "print(x, 'f')  \n"
      ],
      "execution_count": null,
      "outputs": [
        {
          "output_type": "stream",
          "name": "stdout",
          "text": [
            "7 f\n"
          ]
        }
      ]
    },
    {
      "cell_type": "code",
      "metadata": {
        "colab": {
          "base_uri": "https://localhost:8080/"
        },
        "id": "qq5usRSlUxK-",
        "outputId": "da292c04-5dc1-4a37-ff95-de2510e5ea9f"
      },
      "source": [
        "def mul(Days, Rate):\n",
        "  mult = float(Days * Rate)\n",
        "  return mult\n",
        "  \n",
        "x = mul(45, 10)\n",
        "print(x)  "
      ],
      "execution_count": null,
      "outputs": [
        {
          "output_type": "stream",
          "name": "stdout",
          "text": [
            "450.0\n"
          ]
        }
      ]
    },
    {
      "cell_type": "code",
      "metadata": {
        "colab": {
          "base_uri": "https://localhost:8080/"
        },
        "id": "qbQzwfzRYJF-",
        "outputId": "b24fe053-4f1b-4605-b27c-d7b6a25c9629"
      },
      "source": [
        "def computeTotalpay(days, rate):\n",
        "  pay = days * rate\n",
        "  return pay\n",
        "\n",
        "xh = input(\"Enter Days:\")\n",
        "\n",
        "xr = input(\"Enter Rate:\") \n",
        "bool()\n",
        "\n",
        "jo())\n",
        "\n",
        "try:\n",
        "  fh = float(xh)\n",
        "  fr = float(xr)\n",
        "\n",
        "  print(\"Pay: \",computeTotalpay(fh,fr))\n",
        "except:\n",
        "  print(\"Error, please enter numeric input\")\n"
      ],
      "execution_count": null,
      "outputs": [
        {
          "output_type": "stream",
          "name": "stdout",
          "text": [
            "Enter Days:56\n",
            "Enter Rate:100\n",
            "Pay:  5600.0\n"
          ]
        }
      ]
    },
    {
      "cell_type": "code",
      "metadata": {
        "id": "FOe52v6qYnbT"
      },
      "source": [
        "# /*PROBLEM*/\n",
        "# def calculate():\n",
        "#   def add(a, b):\n",
        "#     added = a+b\n",
        "#     return added\n",
        "#     print(\"XY\")\n",
        "#     x = add(3, 4)\n",
        "#     print(x, 'f')  \n",
        "\n",
        "# def mul(Days, Rate):\n",
        "#   mult = float(Days * Rate)\n",
        "#   return mult\n",
        "  \n",
        "#   x = mul(45, 10)\n",
        "#   print(x)  \n",
        "\n",
        "# calculate()\n"
      ],
      "execution_count": null,
      "outputs": []
    },
    {
      "cell_type": "code",
      "metadata": {
        "id": "lSKs6H8MA6t-"
      },
      "source": [
        "\n"
      ],
      "execution_count": null,
      "outputs": []
    },
    {
      "cell_type": "code",
      "metadata": {
        "id": "XGbolZWBA7sT"
      },
      "source": [
        ""
      ],
      "execution_count": null,
      "outputs": []
    }
  ]
}