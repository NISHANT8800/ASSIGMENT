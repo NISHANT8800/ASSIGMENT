{
  "nbformat": 4,
  "nbformat_minor": 0,
  "metadata": {
    "colab": {
      "name": "Untitled11.ipynb",
      "provenance": [],
      "authorship_tag": "ABX9TyOMpWpYheADVAnlVQEHD0If",
      "include_colab_link": true
    },
    "kernelspec": {
      "name": "python3",
      "display_name": "Python 3"
    },
    "language_info": {
      "name": "python"
    }
  },
  "cells": [
    {
      "cell_type": "markdown",
      "metadata": {
        "id": "view-in-github",
        "colab_type": "text"
      },
      "source": [
        "<a href=\"https://colab.research.google.com/github/NISHANT8800/ASSIGMENT/blob/master/Untitled11.ipynb\" target=\"_parent\"><img src=\"https://colab.research.google.com/assets/colab-badge.svg\" alt=\"Open In Colab\"/></a>"
      ]
    },
    {
      "cell_type": "code",
      "source": [
        "a=[(2, 5), (1, 2), (4, 4), (2, 3), (2, 1)]\n",
        "for j in range (1,len(a)) :\n",
        "  for i in range(len(a)-j) :\n",
        "    if a[i][1]>a[i+1][1] :\n",
        "      temp=a[i]\n",
        "      a[i]=a[i+1]\n",
        "      a[i+1]=temp\n",
        "for i in range(len(a)) :\n",
        "  print(a[i])"
      ],
      "metadata": {
        "colab": {
          "base_uri": "https://localhost:8080/"
        },
        "id": "X_SELgyHFksx",
        "outputId": "cb38f011-cb8d-4e3e-9103-789cab986f60"
      },
      "execution_count": 50,
      "outputs": [
        {
          "output_type": "stream",
          "name": "stdout",
          "text": [
            "(2, 1)\n",
            "(1, 2)\n",
            "(2, 3)\n",
            "(4, 4)\n",
            "(2, 5)\n"
          ]
        }
      ]
    },
    {
      "cell_type": "code",
      "source": [
        ""
      ],
      "metadata": {
        "id": "KD4gIanUF8Hm"
      },
      "execution_count": null,
      "outputs": []
    }
  ]
}