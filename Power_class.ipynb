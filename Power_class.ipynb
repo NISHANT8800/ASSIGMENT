{
  "nbformat": 4,
  "nbformat_minor": 0,
  "metadata": {
    "colab": {
      "name": "Untitled28.ipynb",
      "provenance": [],
      "authorship_tag": "ABX9TyNZW6zvRHQKns1d4RJiP5LA",
      "include_colab_link": true
    },
    "kernelspec": {
      "name": "python3",
      "display_name": "Python 3"
    },
    "language_info": {
      "name": "python"
    }
  },
  "cells": [
    {
      "cell_type": "markdown",
      "metadata": {
        "id": "view-in-github",
        "colab_type": "text"
      },
      "source": [
        "<a href=\"https://colab.research.google.com/github/NISHANT8800/ASSIGMENT/blob/master/Power_class.ipynb\" target=\"_parent\"><img src=\"https://colab.research.google.com/assets/colab-badge.svg\" alt=\"Open In Colab\"/></a>"
      ]
    },
    {
      "cell_type": "code",
      "execution_count": 5,
      "metadata": {
        "colab": {
          "base_uri": "https://localhost:8080/"
        },
        "id": "kOk6kJhTI0Ky",
        "outputId": "9729fd25-d109-4911-df23-abdce50613e5"
      },
      "outputs": [
        {
          "output_type": "stream",
          "name": "stdout",
          "text": [
            "Enter number(x) : 10\n",
            "\n",
            "Enter power(n) : 2\n",
            "\n",
            "ANS :  100\n"
          ]
        }
      ],
      "source": [
        "class raise_to:\n",
        "\n",
        "    def f(x,n):\n",
        "\n",
        "        return pow(x,n)\n",
        "x = int(input(\"Enter number(x) : \"))\n",
        "n = int(input(\"\\nEnter power(n) : \"))\n",
        "print(\"\\nANS : \", raise_to.f(x,n))"
      ]
    },
    {
      "cell_type": "code",
      "source": [
        ""
      ],
      "metadata": {
        "id": "6AlQuwBaL9cZ"
      },
      "execution_count": null,
      "outputs": []
    }
  ]
}