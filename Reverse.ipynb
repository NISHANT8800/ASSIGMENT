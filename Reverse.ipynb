{
  "nbformat": 4,
  "nbformat_minor": 0,
  "metadata": {
    "colab": {
      "name": "Untitled8.ipynb",
      "provenance": [],
      "authorship_tag": "ABX9TyNHKXB0LQKeCOVcIOesgkUZ",
      "include_colab_link": true
    },
    "kernelspec": {
      "name": "python3",
      "display_name": "Python 3"
    },
    "language_info": {
      "name": "python"
    }
  },
  "cells": [
    {
      "cell_type": "markdown",
      "metadata": {
        "id": "view-in-github",
        "colab_type": "text"
      },
      "source": [
        "<a href=\"https://colab.research.google.com/github/NISHANT8800/ASSIGMENT/blob/master/Reverse.ipynb\" target=\"_parent\"><img src=\"https://colab.research.google.com/assets/colab-badge.svg\" alt=\"Open In Colab\"/></a>"
      ]
    },
    {
      "cell_type": "code",
      "execution_count": 1,
      "metadata": {
        "colab": {
          "base_uri": "https://localhost:8080/",
          "height": 53
        },
        "id": "0iXBdm2LLZSb",
        "outputId": "3ae9d625-4a53-48e2-ce8c-e023b8292a48"
      },
      "outputs": [
        {
          "name": "stdout",
          "output_type": "stream",
          "text": [
            "Input a word to reverse :Edyoda\n"
          ]
        },
        {
          "output_type": "execute_result",
          "data": {
            "application/vnd.google.colaboratory.intrinsic+json": {
              "type": "string"
            },
            "text/plain": [
              "'adoydE'"
            ]
          },
          "metadata": {},
          "execution_count": 1
        }
      ],
      "source": [
        "word = input(\"Input a word to reverse :\")\n",
        "word[::-1]"
      ]
    },
    {
      "cell_type": "code",
      "source": [
        "word = input(\"Input a word to reverse :\")\n",
        "for char in range(len(word) -1, -1, -1):\n",
        "  print(word[char], end=\"\")\n",
        "print(\"\\n\")  \n"
      ],
      "metadata": {
        "colab": {
          "base_uri": "https://localhost:8080/"
        },
        "id": "n38QONGIMOHU",
        "outputId": "781e9712-d050-4a9b-ccb1-62ed40d8fc79"
      },
      "execution_count": 3,
      "outputs": [
        {
          "output_type": "stream",
          "name": "stdout",
          "text": [
            "Input a word to reverse :Edyoda\n",
            "adoydE\n",
            "\n"
          ]
        }
      ]
    },
    {
      "cell_type": "code",
      "source": [
        ""
      ],
      "metadata": {
        "id": "DYBPP3MiMnl1"
      },
      "execution_count": null,
      "outputs": []
    }
  ]
}