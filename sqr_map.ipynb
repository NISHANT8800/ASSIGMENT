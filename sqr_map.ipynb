{
  "nbformat": 4,
  "nbformat_minor": 0,
  "metadata": {
    "colab": {
      "name": "Untitled24.ipynb",
      "provenance": [],
      "authorship_tag": "ABX9TyOAKoTwoaaE1qnYLZKAHdOv",
      "include_colab_link": true
    },
    "kernelspec": {
      "name": "python3",
      "display_name": "Python 3"
    },
    "language_info": {
      "name": "python"
    }
  },
  "cells": [
    {
      "cell_type": "markdown",
      "metadata": {
        "id": "view-in-github",
        "colab_type": "text"
      },
      "source": [
        "<a href=\"https://colab.research.google.com/github/NISHANT8800/ASSIGMENT/blob/master/sqr_map.ipynb\" target=\"_parent\"><img src=\"https://colab.research.google.com/assets/colab-badge.svg\" alt=\"Open In Colab\"/></a>"
      ]
    },
    {
      "cell_type": "code",
      "execution_count": 4,
      "metadata": {
        "colab": {
          "base_uri": "https://localhost:8080/"
        },
        "id": "IxXqMa-fsU_w",
        "outputId": "6dc7fb6e-5a65-44c0-c053-ae778df90eca"
      },
      "outputs": [
        {
          "output_type": "stream",
          "name": "stdout",
          "text": [
            "Original list:\n",
            " [4, 5, 2, 9]\n",
            "\n",
            "Square the elements of the list:\n",
            "[16, 25, 4, 81]\n"
          ]
        }
      ],
      "source": [
        "nums = [4, 5, 2, 9]\n",
        "print(\"Original list:\\n\", nums)\n",
        "result = map(lambda x: x * x, nums) \n",
        "print(\"\\nSquare the elements of the list:\")\n",
        "print(list(result))"
      ]
    },
    {
      "cell_type": "code",
      "source": [
        ""
      ],
      "metadata": {
        "id": "MTRiDGelsi19"
      },
      "execution_count": null,
      "outputs": []
    }
  ]
}