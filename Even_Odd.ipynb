{
  "nbformat": 4,
  "nbformat_minor": 0,
  "metadata": {
    "colab": {
      "name": "Untitled9.ipynb",
      "provenance": [],
      "authorship_tag": "ABX9TyM79qxEP0zIUbfhi7T7a017",
      "include_colab_link": true
    },
    "kernelspec": {
      "name": "python3",
      "display_name": "Python 3"
    },
    "language_info": {
      "name": "python"
    }
  },
  "cells": [
    {
      "cell_type": "markdown",
      "metadata": {
        "id": "view-in-github",
        "colab_type": "text"
      },
      "source": [
        "<a href=\"https://colab.research.google.com/github/NISHANT8800/ASSIGMENT/blob/master/Even_Odd.ipynb\" target=\"_parent\"><img src=\"https://colab.research.google.com/assets/colab-badge.svg\" alt=\"Open In Colab\"/></a>"
      ]
    },
    {
      "cell_type": "code",
      "execution_count": 1,
      "metadata": {
        "colab": {
          "base_uri": "https://localhost:8080/"
        },
        "id": "3YwmBYoKNg9t",
        "outputId": "f7e43a0d-8a7e-4f4b-ff7c-f74c5ce5fad2"
      },
      "outputs": [
        {
          "output_type": "stream",
          "name": "stdout",
          "text": [
            "Count of even numbers : 4\n",
            "Count of odd numbers : 5\n"
          ]
        }
      ],
      "source": [
        "numbers = (1,2,3,4,5,6,7,8,9)\n",
        "count_odd = 0\n",
        "count_even = 0\n",
        "for x in numbers:\n",
        "  if not x % 2 :\n",
        "    count_even+=1\n",
        "  else:\n",
        "    count_odd+=1  \n",
        "print(\"Count of even numbers :\",count_even)\n",
        "print(\"Count of odd numbers :\",count_odd)\n"
      ]
    },
    {
      "cell_type": "code",
      "source": [
        ""
      ],
      "metadata": {
        "id": "uVgNzouyOqr7"
      },
      "execution_count": null,
      "outputs": []
    }
  ]
}